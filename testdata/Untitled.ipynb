{
 "cells": [
  {
   "cell_type": "code",
   "execution_count": 1,
   "id": "89840466",
   "metadata": {},
   "outputs": [],
   "source": [
    "import dysh"
   ]
  },
  {
   "cell_type": "code",
   "execution_count": 2,
   "id": "f168bd84",
   "metadata": {},
   "outputs": [],
   "source": [
    "import numpy as np\n",
    "import matplotlib.pyplot as plt\n",
    "%matplotlib qt"
   ]
  },
  {
   "cell_type": "code",
   "execution_count": 2,
   "id": "0aaa7951",
   "metadata": {},
   "outputs": [
    {
     "data": {
      "text/plain": [
       "['__builtins__',\n",
       " '__cached__',\n",
       " '__doc__',\n",
       " '__file__',\n",
       " '__loader__',\n",
       " '__name__',\n",
       " '__package__',\n",
       " '__path__',\n",
       " '__spec__',\n",
       " '__version__',\n",
       " 'all',\n",
       " 'version']"
      ]
     },
     "execution_count": 2,
     "metadata": {},
     "output_type": "execute_result"
    }
   ],
   "source": [
    "dir(dysh)"
   ]
  },
  {
   "cell_type": "code",
   "execution_count": 4,
   "id": "fc57b996",
   "metadata": {},
   "outputs": [
    {
     "name": "stdout",
     "output_type": "stream",
     "text": [
      "0.3.0b\n"
     ]
    }
   ],
   "source": [
    "print(dysh.__version__)"
   ]
  },
  {
   "cell_type": "code",
   "execution_count": 3,
   "id": "35a9a29f",
   "metadata": {},
   "outputs": [],
   "source": [
    "from dysh.fits import GBTFITSLoad"
   ]
  },
  {
   "cell_type": "code",
   "execution_count": 4,
   "id": "73a92ac6",
   "metadata": {},
   "outputs": [
    {
     "name": "stderr",
     "output_type": "stream",
     "text": [
      "/users/esmith/Git/dysh/src/dysh/fits/gbtfitsload.py:1644: UserWarning: No RADESYS specified.\n",
      "  warnings.warn(\"No RADESYS specified.\")\n"
     ]
    }
   ],
   "source": [
    "fname = '/home/sdfits/TSCI_RYAN_16/TSCI_RYAN_16.raw.vegas/TSCI_RYAN_16.raw.vegas.A.fits'\n",
    "sdf = GBTFITSLoad(fname)"
   ]
  },
  {
   "cell_type": "code",
   "execution_count": 3,
   "id": "94fb49e6",
   "metadata": {},
   "outputs": [],
   "source": [
    "fname = '/home/sdfits/TRCO_231002_L/TRCO_231002_L.raw.vegas/TRCO_231002_L.raw.vegas.A.fits'\n",
    "sdf = GBTFITSLoad(fname)"
   ]
  },
  {
   "cell_type": "code",
   "execution_count": 5,
   "id": "11264aef",
   "metadata": {},
   "outputs": [
    {
     "data": {
      "text/html": [
       "<div>\n",
       "<style scoped>\n",
       "    .dataframe tbody tr th:only-of-type {\n",
       "        vertical-align: middle;\n",
       "    }\n",
       "\n",
       "    .dataframe tbody tr th {\n",
       "        vertical-align: top;\n",
       "    }\n",
       "\n",
       "    .dataframe thead th {\n",
       "        text-align: right;\n",
       "    }\n",
       "</style>\n",
       "<table border=\"1\" class=\"dataframe\">\n",
       "  <thead>\n",
       "    <tr style=\"text-align: right;\">\n",
       "      <th></th>\n",
       "      <th>SCAN</th>\n",
       "      <th>OBJECT</th>\n",
       "      <th>VELOCITY</th>\n",
       "      <th>PROC</th>\n",
       "      <th>PROCSEQN</th>\n",
       "      <th>RESTFREQ</th>\n",
       "      <th>DOPFREQ</th>\n",
       "      <th># IF</th>\n",
       "      <th># POL</th>\n",
       "      <th># INT</th>\n",
       "      <th># FEED</th>\n",
       "      <th>AZIMUTH</th>\n",
       "      <th>ELEVATIO</th>\n",
       "    </tr>\n",
       "  </thead>\n",
       "  <tbody>\n",
       "    <tr>\n",
       "      <th>0</th>\n",
       "      <td>1</td>\n",
       "      <td>B0329+54</td>\n",
       "      <td>0.0</td>\n",
       "      <td>Track</td>\n",
       "      <td>1</td>\n",
       "      <td>1.5</td>\n",
       "      <td>1.5</td>\n",
       "      <td>1</td>\n",
       "      <td>2</td>\n",
       "      <td>16</td>\n",
       "      <td>1</td>\n",
       "      <td>0.0</td>\n",
       "      <td>0.0</td>\n",
       "    </tr>\n",
       "    <tr>\n",
       "      <th>1</th>\n",
       "      <td>2</td>\n",
       "      <td>B0329+54</td>\n",
       "      <td>0.0</td>\n",
       "      <td>Track</td>\n",
       "      <td>1</td>\n",
       "      <td>1.5</td>\n",
       "      <td>1.5</td>\n",
       "      <td>1</td>\n",
       "      <td>2</td>\n",
       "      <td>16</td>\n",
       "      <td>1</td>\n",
       "      <td>0.0</td>\n",
       "      <td>0.0</td>\n",
       "    </tr>\n",
       "    <tr>\n",
       "      <th>2</th>\n",
       "      <td>3</td>\n",
       "      <td>B0329+54</td>\n",
       "      <td>0.0</td>\n",
       "      <td>Track</td>\n",
       "      <td>1</td>\n",
       "      <td>1.5</td>\n",
       "      <td>1.5</td>\n",
       "      <td>1</td>\n",
       "      <td>2</td>\n",
       "      <td>16</td>\n",
       "      <td>1</td>\n",
       "      <td>0.0</td>\n",
       "      <td>0.0</td>\n",
       "    </tr>\n",
       "    <tr>\n",
       "      <th>3</th>\n",
       "      <td>4</td>\n",
       "      <td>B0329+54</td>\n",
       "      <td>0.0</td>\n",
       "      <td>Track</td>\n",
       "      <td>1</td>\n",
       "      <td>1.5</td>\n",
       "      <td>1.5</td>\n",
       "      <td>1</td>\n",
       "      <td>2</td>\n",
       "      <td>16</td>\n",
       "      <td>1</td>\n",
       "      <td>0.0</td>\n",
       "      <td>0.0</td>\n",
       "    </tr>\n",
       "    <tr>\n",
       "      <th>4</th>\n",
       "      <td>5</td>\n",
       "      <td>B0329+54</td>\n",
       "      <td>0.0</td>\n",
       "      <td>Track</td>\n",
       "      <td>1</td>\n",
       "      <td>1.5</td>\n",
       "      <td>1.5</td>\n",
       "      <td>1</td>\n",
       "      <td>2</td>\n",
       "      <td>16</td>\n",
       "      <td>1</td>\n",
       "      <td>0.0</td>\n",
       "      <td>0.0</td>\n",
       "    </tr>\n",
       "  </tbody>\n",
       "</table>\n",
       "</div>"
      ],
      "text/plain": [
       "   SCAN    OBJECT VELOCITY   PROC  PROCSEQN RESTFREQ DOPFREQ # IF # POL # INT  \\\n",
       "0     1  B0329+54      0.0  Track         1      1.5     1.5    1     2    16   \n",
       "1     2  B0329+54      0.0  Track         1      1.5     1.5    1     2    16   \n",
       "2     3  B0329+54      0.0  Track         1      1.5     1.5    1     2    16   \n",
       "3     4  B0329+54      0.0  Track         1      1.5     1.5    1     2    16   \n",
       "4     5  B0329+54      0.0  Track         1      1.5     1.5    1     2    16   \n",
       "\n",
       "  # FEED AZIMUTH ELEVATIO  \n",
       "0      1     0.0      0.0  \n",
       "1      1     0.0      0.0  \n",
       "2      1     0.0      0.0  \n",
       "3      1     0.0      0.0  \n",
       "4      1     0.0      0.0  "
      ]
     },
     "execution_count": 5,
     "metadata": {},
     "output_type": "execute_result"
    }
   ],
   "source": [
    "sdf.summary()"
   ]
  },
  {
   "cell_type": "code",
   "execution_count": 6,
   "id": "855e099d",
   "metadata": {},
   "outputs": [
    {
     "ename": "Exception",
     "evalue": "unbalanced calrows 0 != 16",
     "output_type": "error",
     "traceback": [
      "\u001b[0;31m---------------------------------------------------------------------------\u001b[0m",
      "\u001b[0;31mException\u001b[0m                                 Traceback (most recent call last)",
      "Cell \u001b[0;32mIn[6], line 1\u001b[0m\n\u001b[0;32m----> 1\u001b[0m tpscan \u001b[38;5;241m=\u001b[39m \u001b[43msdf\u001b[49m\u001b[38;5;241;43m.\u001b[39;49m\u001b[43mgettp\u001b[49m\u001b[43m(\u001b[49m\u001b[43mscan\u001b[49m\u001b[38;5;241;43m=\u001b[39;49m\u001b[38;5;241;43m3\u001b[39;49m\u001b[43m,\u001b[49m\u001b[43mplnum\u001b[49m\u001b[38;5;241;43m=\u001b[39;49m\u001b[38;5;241;43m0\u001b[39;49m\u001b[43m)\u001b[49m\n",
      "File \u001b[0;32m~/Git/dysh/src/dysh/fits/gbtfitsload.py:947\u001b[0m, in \u001b[0;36mGBTFITSLoad.gettp\u001b[0;34m(self, sig, cal, calibrate, timeaverage, polaverage, weights, bintable, **kwargs)\u001b[0m\n\u001b[1;32m    945\u001b[0m calrows[\u001b[38;5;124m\"\u001b[39m\u001b[38;5;124mOFF\u001b[39m\u001b[38;5;124m\"\u001b[39m] \u001b[38;5;241m=\u001b[39m \u001b[38;5;28mlist\u001b[39m(dfcalF[\u001b[38;5;124m\"\u001b[39m\u001b[38;5;124mROW\u001b[39m\u001b[38;5;124m\"\u001b[39m])\n\u001b[1;32m    946\u001b[0m \u001b[38;5;28;01mif\u001b[39;00m \u001b[38;5;28mlen\u001b[39m(calrows[\u001b[38;5;124m\"\u001b[39m\u001b[38;5;124mON\u001b[39m\u001b[38;5;124m\"\u001b[39m]) \u001b[38;5;241m!=\u001b[39m \u001b[38;5;28mlen\u001b[39m(calrows[\u001b[38;5;124m\"\u001b[39m\u001b[38;5;124mOFF\u001b[39m\u001b[38;5;124m\"\u001b[39m]):\n\u001b[0;32m--> 947\u001b[0m     \u001b[38;5;28;01mraise\u001b[39;00m \u001b[38;5;167;01mException\u001b[39;00m(\u001b[38;5;124mf\u001b[39m\u001b[38;5;124m'\u001b[39m\u001b[38;5;124munbalanced calrows \u001b[39m\u001b[38;5;132;01m{\u001b[39;00m\u001b[38;5;28mlen\u001b[39m(calrows[\u001b[38;5;124m\"\u001b[39m\u001b[38;5;124mON\u001b[39m\u001b[38;5;124m\"\u001b[39m])\u001b[38;5;132;01m}\u001b[39;00m\u001b[38;5;124m != \u001b[39m\u001b[38;5;132;01m{\u001b[39;00m\u001b[38;5;28mlen\u001b[39m(calrows[\u001b[38;5;124m\"\u001b[39m\u001b[38;5;124mOFF\u001b[39m\u001b[38;5;124m\"\u001b[39m])\u001b[38;5;132;01m}\u001b[39;00m\u001b[38;5;124m'\u001b[39m)\n\u001b[1;32m    948\u001b[0m \u001b[38;5;66;03m# sig and cal are treated specially since\u001b[39;00m\n\u001b[1;32m    949\u001b[0m \u001b[38;5;66;03m# they are not in kwargs and in SDFITS header\u001b[39;00m\n\u001b[1;32m    950\u001b[0m \u001b[38;5;66;03m# they are not booleans but chars\u001b[39;00m\n\u001b[1;32m    951\u001b[0m \u001b[38;5;28;01mif\u001b[39;00m sig \u001b[38;5;129;01mis\u001b[39;00m \u001b[38;5;129;01mnot\u001b[39;00m \u001b[38;5;28;01mNone\u001b[39;00m:\n",
      "\u001b[0;31mException\u001b[0m: unbalanced calrows 0 != 16"
     ]
    }
   ],
   "source": [
    "tpscan = sdf.gettp(scan=3,plnum=0)"
   ]
  },
  {
   "cell_type": "code",
   "execution_count": 13,
   "id": "475cb1c3",
   "metadata": {},
   "outputs": [],
   "source": [
    "tpscan = sdf.gettp(scan=13,plnum=0,calibrate=False)"
   ]
  },
  {
   "cell_type": "code",
   "execution_count": 62,
   "id": "269fbb40",
   "metadata": {},
   "outputs": [
    {
     "data": {
      "text/plain": [
       "16"
      ]
     },
     "execution_count": 62,
     "metadata": {},
     "output_type": "execute_result"
    }
   ],
   "source": [
    "sdf.calonoff_rows(3,ifnum=0,plnum=0,fdnum=0)['OFF']"
   ]
  },
  {
   "cell_type": "code",
   "execution_count": 65,
   "id": "9dcd05c3",
   "metadata": {},
   "outputs": [],
   "source": [
    "onsource_calon_indices = sdf.calonoff_rows(3,ifnum=0,plnum=0,fdnum=0)['OFF']\n",
    "onsource_calon_chunk = sdf.rawspectra(0,0)[onsource_calon_indices]\n",
    "onsource_calon_data = np.mean(onsource_calon_chunk,axis=0)"
   ]
  },
  {
   "cell_type": "code",
   "execution_count": 68,
   "id": "54bf1d53",
   "metadata": {},
   "outputs": [
    {
     "data": {
      "text/plain": [
       "[<matplotlib.lines.Line2D at 0x7f155fae5520>]"
      ]
     },
     "execution_count": 68,
     "metadata": {},
     "output_type": "execute_result"
    }
   ],
   "source": [
    "plt.plot(onsource_calon_data)"
   ]
  },
  {
   "cell_type": "code",
   "execution_count": 23,
   "id": "aaa0317b",
   "metadata": {
    "scrolled": false
   },
   "outputs": [
    {
     "name": "stdout",
     "output_type": "stream",
     "text": [
      "(array([ 0,  1,  2,  3,  4,  5,  6,  7,  8,  9, 10, 11, 12, 13, 14]),) 16 (16, 524288)\n",
      "(array([0]),) 1 (1, 524288)\n"
     ]
    },
    {
     "data": {
      "image/png": "[encoded data removed]",
      "text/plain": [
       "<Figure size 640x480 with 1 Axes>"
      ]
     },
     "metadata": {},
     "output_type": "display_data"
    }
   ],
   "source": [
    "tpscan.timeaverage().plot()\n",
    "#tpscan.timeaverage().plot(vel_frame='lsrk')"
   ]
  },
  {
   "cell_type": "code",
   "execution_count": 7,
   "id": "5be2edc3",
   "metadata": {},
   "outputs": [
    {
     "name": "stdout",
     "output_type": "stream",
     "text": [
      "(array([ 0,  1,  2,  3,  4,  5,  6,  7,  8,  9, 10, 11]),) 12 (12, 16384)\n",
      "(array([0]),) 1 (1, 16384)\n"
     ]
    }
   ],
   "source": [
    "gwuh =tpscan.timeaverage().data"
   ]
  },
  {
   "cell_type": "code",
   "execution_count": 8,
   "id": "411a3065",
   "metadata": {},
   "outputs": [
    {
     "data": {
      "text/plain": [
       "array([2.96928081e+08, 4.37253955e+04, 4.53163372e+04, ...,\n",
       "       3.65272010e+04, 3.67463431e+04, 3.83974268e+04])"
      ]
     },
     "execution_count": 8,
     "metadata": {},
     "output_type": "execute_result"
    }
   ],
   "source": [
    "gwuh"
   ]
  },
  {
   "cell_type": "code",
   "execution_count": 40,
   "id": "550055a5",
   "metadata": {},
   "outputs": [],
   "source": [
    "uhh.set_frame('itrs')"
   ]
  },
  {
   "cell_type": "code",
   "execution_count": 41,
   "id": "eb2d8ca9",
   "metadata": {},
   "outputs": [],
   "source": [
    "buh = (uhh.with_frame('lsrk'))"
   ]
  },
  {
   "cell_type": "code",
   "execution_count": 42,
   "id": "d423379d",
   "metadata": {},
   "outputs": [
    {
     "name": "stderr",
     "output_type": "stream",
     "text": [
      "/users/esmith/.conda/envs/dyshpy/lib/python3.9/site-packages/astropy/units/equivalencies.py:559: RuntimeWarning: invalid value encountered in sqrt\n",
      "  return np.sqrt((1 + beta) / (1 - beta)) - 1\n"
     ]
    },
    {
     "data": {
      "text/latex": [
       "$[1.5058262,~1.5058262,~1.5058262,~\\dots,~1.4941076,~1.4941075,~1.4941075] \\; \\mathrm{GHz}$"
      ],
      "text/plain": [
       "<SpectralAxis \n",
       "   (observer: <ITRS Coordinate (obstime=J2000.000, location=(0., 0., 0.) km): (x, y, z) in m\n",
       "                  (2.418883e+11, -9.14896264e+10, -1.10216068e+11)\n",
       "               (v_x, v_y, v_z) in km / s\n",
       "                  (-6671.54273465, -17638.77270587, -0.03090192)>\n",
       "    target: <AltAz Coordinate (obstime=2024-05-21T19:12:24.010, location=(882593.9465029, -4924896.36541728, 3943748.74743984) m, pressure=0.0 hPa, temperature=0.0 deg_C, relative_humidity=0.0, obswl=1.0 micron): (az, alt, distance) in (deg, deg, kpc)\n",
       "                (0., 0., 1000000.)\n",
       "             (pm_az_cosalt, pm_alt, radial_velocity) in (mas / yr, mas / yr, km / s)\n",
       "                (0., 0., 0.)>\n",
       "    observer to target (computed from above):\n",
       "      radial_velocity=-7778420.5 km / s\n",
       "      redshift=nan\n",
       "    doppler_rest=1500000000.0 Hz\n",
       "    doppler_convention=radio)\n",
       "  [1.50582623, 1.50582621, 1.50582619, ..., 1.49410757, 1.49410755,\n",
       "   1.49410753] GHz>"
      ]
     },
     "execution_count": 42,
     "metadata": {},
     "output_type": "execute_result"
    }
   ],
   "source": [
    "uhh.frequency"
   ]
  },
  {
   "cell_type": "code",
   "execution_count": 43,
   "id": "7c810af0",
   "metadata": {},
   "outputs": [
    {
     "data": {
      "text/latex": [
       "$[1.5057107,~1.5057107,~1.5057107,~\\dots,~1.4939929,~1.4939929,~1.4939929] \\; \\mathrm{GHz}$"
      ],
      "text/plain": [
       "<SpectralAxis \n",
       "   (observer: <LSRK Coordinate: (x, y, z) in m\n",
       "                  (-7.47734162e+10, -1.21901477e+11, -5.28073812e+10)\n",
       "               (v_x, v_y, v_z) in km / s\n",
       "                  (0., 0., 0.)>\n",
       "    target: <AltAz Coordinate (obstime=2024-05-21T19:12:24.010, location=(882593.9465029, -4924896.36541728, 3943748.74743984) m, pressure=0.0 hPa, temperature=0.0 deg_C, relative_humidity=0.0, obswl=1.0 micron): (az, alt, distance) in (deg, deg, kpc)\n",
       "                (0., 0., 1000000.)\n",
       "             (pm_az_cosalt, pm_alt, radial_velocity) in (mas / yr, mas / yr, km / s)\n",
       "                (0., 0., 0.)>\n",
       "    observer to target (computed from above):\n",
       "      radial_velocity=-7778398.0 km / s\n",
       "      redshift=nan\n",
       "    doppler_rest=1500000000.0 Hz\n",
       "    doppler_convention=radio)\n",
       "  [1.50571071, 1.50571069, 1.50571067, ..., 1.49399295, 1.49399293,\n",
       "   1.4939929 ] GHz>"
      ]
     },
     "execution_count": 43,
     "metadata": {},
     "output_type": "execute_result"
    }
   ],
   "source": [
    "buh.frequency"
   ]
  },
  {
   "cell_type": "code",
   "execution_count": 58,
   "id": "b107630b",
   "metadata": {
    "scrolled": false
   },
   "outputs": [
    {
     "name": "stderr",
     "output_type": "stream",
     "text": [
      "/users/esmith/.conda/envs/dyshpy/lib/python3.9/site-packages/astropy/units/equivalencies.py:559: RuntimeWarning: invalid value encountered in sqrt\n",
      "  return np.sqrt((1 + beta) / (1 - beta)) - 1\n"
     ]
    },
    {
     "data": {
      "text/plain": [
       "<Spectrum1D(flux=[1708977.5548702665 ... 1854707.1426152117] ct (shape=(524288,), mean=722928570.49487 ct); spectral_axis=<SpectralAxis \n",
       "   (observer: <ITRS Coordinate (obstime=2024-05-21T19:12:24.010, location=(0., 0., 0.) km): (x, y, z) in m\n",
       "                  (882593.9465029, -4924896.36541728, 3943748.74743984)\n",
       "               (v_x, v_y, v_z) in km / s\n",
       "                  (0., 0., 0.)>\n",
       "    target: <SkyCoord (AltAz: obstime=2024-05-21T19:12:24.010, location=(882593.9465029, -4924896.36541728, 3943748.74743984) m, pressure=0.0 hPa, temperature=0.0 deg_C, relative_humidity=0.0, obswl=1.0 micron): (az, alt, distance) in (deg, deg, kpc)\n",
       "                (0., 0., 1000000.)\n",
       "             (pm_az_cosalt, pm_alt, radial_velocity) in (mas / yr, mas / yr, km / s)\n",
       "                (0., 0., 0.)>\n",
       "    observer to target (computed from above):\n",
       "      radial_velocity=-7778421.0 km / s\n",
       "      redshift=nan\n",
       "    doppler_rest=1500000000.0 Hz\n",
       "    doppler_convention=radio)\n",
       "  [1.50582875e+09 1.50582872e+09 1.50582870e+09 ... 1.49411006e+09\n",
       " 1.49411004e+09 1.49411002e+09] Hz> (length=524288))>"
      ]
     },
     "execution_count": 58,
     "metadata": {},
     "output_type": "execute_result"
    }
   ],
   "source": [
    "uhh"
   ]
  },
  {
   "cell_type": "code",
   "execution_count": 45,
   "id": "611820d7",
   "metadata": {},
   "outputs": [
    {
     "data": {
      "text/plain": [
       "ScanBlock([<dysh.spectra.scan.TPScan at 0x7f1585975b80>])"
      ]
     },
     "execution_count": 45,
     "metadata": {},
     "output_type": "execute_result"
    }
   ],
   "source": [
    "tpscan"
   ]
  },
  {
   "cell_type": "code",
   "execution_count": 46,
   "id": "ce930fd7",
   "metadata": {},
   "outputs": [
    {
     "data": {
      "text/html": [
       "<div>\n",
       "<style scoped>\n",
       "    .dataframe tbody tr th:only-of-type {\n",
       "        vertical-align: middle;\n",
       "    }\n",
       "\n",
       "    .dataframe tbody tr th {\n",
       "        vertical-align: top;\n",
       "    }\n",
       "\n",
       "    .dataframe thead th {\n",
       "        text-align: right;\n",
       "    }\n",
       "</style>\n",
       "<table border=\"1\" class=\"dataframe\">\n",
       "  <thead>\n",
       "    <tr style=\"text-align: right;\">\n",
       "      <th></th>\n",
       "      <th>SCAN</th>\n",
       "      <th>OBJECT</th>\n",
       "      <th>VELOCITY</th>\n",
       "      <th>PROC</th>\n",
       "      <th>PROCSEQN</th>\n",
       "      <th>RESTFREQ</th>\n",
       "      <th>DOPFREQ</th>\n",
       "      <th># IF</th>\n",
       "      <th># POL</th>\n",
       "      <th># INT</th>\n",
       "      <th># FEED</th>\n",
       "      <th>AZIMUTH</th>\n",
       "      <th>ELEVATIO</th>\n",
       "    </tr>\n",
       "  </thead>\n",
       "  <tbody>\n",
       "    <tr>\n",
       "      <th>0</th>\n",
       "      <td>1</td>\n",
       "      <td>B0329+54</td>\n",
       "      <td>0.0</td>\n",
       "      <td>Track</td>\n",
       "      <td>1</td>\n",
       "      <td>1.5</td>\n",
       "      <td>1.5</td>\n",
       "      <td>1</td>\n",
       "      <td>2</td>\n",
       "      <td>16</td>\n",
       "      <td>1</td>\n",
       "      <td>0.0</td>\n",
       "      <td>0.0</td>\n",
       "    </tr>\n",
       "    <tr>\n",
       "      <th>1</th>\n",
       "      <td>2</td>\n",
       "      <td>B0329+54</td>\n",
       "      <td>0.0</td>\n",
       "      <td>Track</td>\n",
       "      <td>1</td>\n",
       "      <td>1.5</td>\n",
       "      <td>1.5</td>\n",
       "      <td>1</td>\n",
       "      <td>2</td>\n",
       "      <td>16</td>\n",
       "      <td>1</td>\n",
       "      <td>0.0</td>\n",
       "      <td>0.0</td>\n",
       "    </tr>\n",
       "    <tr>\n",
       "      <th>2</th>\n",
       "      <td>3</td>\n",
       "      <td>B0329+54</td>\n",
       "      <td>0.0</td>\n",
       "      <td>Track</td>\n",
       "      <td>1</td>\n",
       "      <td>1.5</td>\n",
       "      <td>1.5</td>\n",
       "      <td>1</td>\n",
       "      <td>2</td>\n",
       "      <td>16</td>\n",
       "      <td>1</td>\n",
       "      <td>0.0</td>\n",
       "      <td>0.0</td>\n",
       "    </tr>\n",
       "    <tr>\n",
       "      <th>3</th>\n",
       "      <td>4</td>\n",
       "      <td>B0329+54</td>\n",
       "      <td>0.0</td>\n",
       "      <td>Track</td>\n",
       "      <td>1</td>\n",
       "      <td>1.5</td>\n",
       "      <td>1.5</td>\n",
       "      <td>1</td>\n",
       "      <td>2</td>\n",
       "      <td>16</td>\n",
       "      <td>1</td>\n",
       "      <td>0.0</td>\n",
       "      <td>0.0</td>\n",
       "    </tr>\n",
       "    <tr>\n",
       "      <th>4</th>\n",
       "      <td>5</td>\n",
       "      <td>B0329+54</td>\n",
       "      <td>0.0</td>\n",
       "      <td>Track</td>\n",
       "      <td>1</td>\n",
       "      <td>1.5</td>\n",
       "      <td>1.5</td>\n",
       "      <td>1</td>\n",
       "      <td>2</td>\n",
       "      <td>16</td>\n",
       "      <td>1</td>\n",
       "      <td>0.0</td>\n",
       "      <td>0.0</td>\n",
       "    </tr>\n",
       "  </tbody>\n",
       "</table>\n",
       "</div>"
      ],
      "text/plain": [
       "   SCAN    OBJECT VELOCITY   PROC  PROCSEQN RESTFREQ DOPFREQ # IF # POL # INT  \\\n",
       "0     1  B0329+54      0.0  Track         1      1.5     1.5    1     2    16   \n",
       "1     2  B0329+54      0.0  Track         1      1.5     1.5    1     2    16   \n",
       "2     3  B0329+54      0.0  Track         1      1.5     1.5    1     2    16   \n",
       "3     4  B0329+54      0.0  Track         1      1.5     1.5    1     2    16   \n",
       "4     5  B0329+54      0.0  Track         1      1.5     1.5    1     2    16   \n",
       "\n",
       "  # FEED AZIMUTH ELEVATIO  \n",
       "0      1     0.0      0.0  \n",
       "1      1     0.0      0.0  \n",
       "2      1     0.0      0.0  \n",
       "3      1     0.0      0.0  \n",
       "4      1     0.0      0.0  "
      ]
     },
     "execution_count": 46,
     "metadata": {},
     "output_type": "execute_result"
    }
   ],
   "source": [
    "sdf.summary()"
   ]
  },
  {
   "cell_type": "code",
   "execution_count": 52,
   "id": "19da4c83",
   "metadata": {
    "scrolled": true
   },
   "outputs": [
    {
     "name": "stdout",
     "output_type": "stream",
     "text": [
      "B0329+54\n",
      "11718750.0\n",
      "2024-05-21T19:12:24.01\n",
      "0.9842635\n",
      "0.6263493895530701\n",
      "1.0\n",
      "(524288,1,1,1)\n",
      "Counts\n",
      "FREQ-OBS\n",
      "1499969370.663166\n",
      "262145.0\n",
      "-22.351741790771484\n",
      "AZ\n",
      "0.0\n",
      "EL\n",
      "0.0\n",
      "-5\n",
      "Ryan Lynch\n",
      "unknown\n",
      "1\n",
      "Track:NONE:TPWCAL\n",
      "Rcvr1_2\n",
      "1.5164986\n",
      "RADI-OBS\n",
      "0.0\n",
      "0.0\n",
      "1499969370.663166\n",
      "0.0\n",
      "0.0\n",
      "0.0\n",
      "0.0\n",
      "0.0\n",
      "0.0\n",
      "1500000000.0\n",
      "22.35174179077148\n",
      "0.0\n",
      "AltAz\n",
      "0.0\n",
      "0.0\n",
      "A1_0\n",
      "1\n",
      "0\n",
      "0.0\n",
      "0.0\n",
      "1\n",
      "L\n",
      "1\n",
      "1\n",
      "ON\n",
      "SIMPLE\n",
      "1\n",
      "0\n",
      "2024_05_21_19:12:23\n",
      "nan\n",
      "nan\n",
      "-1\n",
      "\n",
      "0.0\n",
      "nan\n",
      "1500000000.0\n",
      "1500000000.0\n",
      "1048576.0000000002\n",
      "10.66796875\n",
      "262140.0\n",
      "T\n",
      "F\n",
      "LOW\n",
      "nan\n",
      "nan\n",
      "Unknown\n",
      "0\n",
      "1\n",
      "0\n",
      "1\n",
      "0\n",
      "0\n",
      "0.0\n",
      "Track\n",
      "NONE\n",
      "TPWCAL\n"
     ]
    }
   ],
   "source": [
    "for i in range(len(sdf.index().iloc[0])):\n",
    "    print(sdf.index().iloc[0][i])"
   ]
  },
  {
   "cell_type": "code",
   "execution_count": 53,
   "id": "dabfebbc",
   "metadata": {},
   "outputs": [
    {
     "name": "stdout",
     "output_type": "stream",
     "text": [
      "OBJECT                       B0329+54\n",
      "BANDWID                    11718750.0\n",
      "DATE-OBS       2024-05-21T19:12:24.01\n",
      "DURATION                     0.984263\n",
      "EXPOSURE                     0.626349\n",
      "                        ...          \n",
      "ROW                                 0\n",
      "FITSINDEX                         0.0\n",
      "PROC                            Track\n",
      "_OBSTYPE                         NONE\n",
      "_SUBOBSMODE                    TPWCAL\n",
      "Name: 0, Length: 80, dtype: object\n"
     ]
    }
   ],
   "source": [
    "print(sdf.index().iloc[0])"
   ]
  },
  {
   "cell_type": "code",
   "execution_count": null,
   "id": "d7a799bd",
   "metadata": {},
   "outputs": [],
   "source": []
  }
 ],
 "metadata": {
  "kernelspec": {
   "display_name": "Python (dysh)",
   "language": "python",
   "name": "dyshpy"
  },
  "language_info": {
   "codemirror_mode": {
    "name": "ipython",
    "version": 3
   },
   "file_extension": ".py",
   "mimetype": "text/x-python",
   "name": "python",
   "nbconvert_exporter": "python",
   "pygments_lexer": "ipython3",
   "version": "3.9.16"
  }
 },
 "nbformat": 4,
 "nbformat_minor": 5
}
