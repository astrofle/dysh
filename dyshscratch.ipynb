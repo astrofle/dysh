{
 "cells": [
  {
   "cell_type": "code",
   "execution_count": 1,
   "id": "344f3e47",
   "metadata": {},
   "outputs": [],
   "source": [
    "from dysh.fits.gbtfitsload import GBTFITSLoad\n"
   ]
  },
  {
   "cell_type": "code",
   "execution_count": 27,
   "id": "527ac225",
   "metadata": {},
   "outputs": [],
   "source": [
    "sdf = GBTFITSLoad('testdata/TGBT21A_501_11/TGBT21A_501_11.raw.vegas.fits')\n",
    "\n",
    "sdf = GBTFITSLoad('testdata/AGBT05B_047_01/AGBT05B_047_01.raw.acs')\n",
    "sdf = GBTFITSLoad('testdata/TGBT21A_501_11/TGBT21A_501_11_scan_152_ifnum_0_plnum_0.fits')\n"
   ]
  },
  {
   "cell_type": "code",
   "execution_count": 42,
   "id": "24da2c2a",
   "metadata": {},
   "outputs": [],
   "source": [
    "sdf = GBTFITSLoad('testdata/AGBT05B_047_01/AGBT05B_047_01.raw.acs')"
   ]
  },
  {
   "cell_type": "code",
   "execution_count": 28,
   "id": "13e0ec82",
   "metadata": {},
   "outputs": [
    {
     "data": {
      "text/html": [
       "<div>\n",
       "<style scoped>\n",
       "    .dataframe tbody tr th:only-of-type {\n",
       "        vertical-align: middle;\n",
       "    }\n",
       "\n",
       "    .dataframe tbody tr th {\n",
       "        vertical-align: top;\n",
       "    }\n",
       "\n",
       "    .dataframe thead th {\n",
       "        text-align: right;\n",
       "    }\n",
       "</style>\n",
       "<table border=\"1\" class=\"dataframe\">\n",
       "  <thead>\n",
       "    <tr style=\"text-align: right;\">\n",
       "      <th></th>\n",
       "      <th>SCAN</th>\n",
       "      <th>OBJECT</th>\n",
       "      <th>VELOCITY</th>\n",
       "      <th>PROC</th>\n",
       "      <th>PROCSEQN</th>\n",
       "      <th>RESTFREQ</th>\n",
       "      <th>DOPFREQ</th>\n",
       "      <th># IF</th>\n",
       "      <th># POL</th>\n",
       "      <th># INT</th>\n",
       "      <th># FEED</th>\n",
       "      <th>AZIMUTH</th>\n",
       "      <th>ELEVATIO</th>\n",
       "    </tr>\n",
       "  </thead>\n",
       "  <tbody>\n",
       "    <tr>\n",
       "      <th>0</th>\n",
       "      <td>152</td>\n",
       "      <td>NGC2415</td>\n",
       "      <td>3784.0</td>\n",
       "      <td>OnOff</td>\n",
       "      <td>1</td>\n",
       "      <td>1.420406</td>\n",
       "      <td>1.420406</td>\n",
       "      <td>1</td>\n",
       "      <td>1</td>\n",
       "      <td>151</td>\n",
       "      <td>1</td>\n",
       "      <td>286.218008</td>\n",
       "      <td>41.62843</td>\n",
       "    </tr>\n",
       "  </tbody>\n",
       "</table>\n",
       "</div>"
      ],
      "text/plain": [
       "   SCAN   OBJECT VELOCITY   PROC  PROCSEQN  RESTFREQ   DOPFREQ # IF # POL  \\\n",
       "0   152  NGC2415   3784.0  OnOff         1  1.420406  1.420406    1     1   \n",
       "\n",
       "  # INT # FEED     AZIMUTH  ELEVATIO  \n",
       "0   151      1  286.218008  41.62843  "
      ]
     },
     "execution_count": 28,
     "metadata": {},
     "output_type": "execute_result"
    }
   ],
   "source": [
    "sdf.summary()\n"
   ]
  },
  {
   "cell_type": "code",
   "execution_count": 38,
   "id": "7bd62b7c",
   "metadata": {},
   "outputs": [
    {
     "data": {
      "text/plain": [
       "True"
      ]
     },
     "execution_count": 38,
     "metadata": {},
     "output_type": "execute_result"
    }
   ],
   "source": [
    "sdf.velocity_convention('OPTI-HEL') == 'optical'"
   ]
  },
  {
   "cell_type": "code",
   "execution_count": 39,
   "id": "b51b05d4",
   "metadata": {},
   "outputs": [
    {
     "data": {
      "text/plain": [
       "True"
      ]
     },
     "execution_count": 39,
     "metadata": {},
     "output_type": "execute_result"
    }
   ],
   "source": [
    "sdf.velocity_frame('RADI-HEL') == 'heliocentric'"
   ]
  },
  {
   "cell_type": "code",
   "execution_count": 32,
   "id": "43fb483e",
   "metadata": {},
   "outputs": [
    {
     "ename": "SyntaxError",
     "evalue": "invalid syntax (1570717753.py, line 1)",
     "output_type": "error",
     "traceback": [
      "\u001b[0;36m  Cell \u001b[0;32mIn[32], line 1\u001b[0;36m\u001b[0m\n\u001b[0;31m    sdf.select('intnum'==[50:70])\u001b[0m\n\u001b[0m                            ^\u001b[0m\n\u001b[0;31mSyntaxError\u001b[0m\u001b[0;31m:\u001b[0m invalid syntax\n"
     ]
    }
   ],
   "source": [
    "sdf.select('intnum'==[50:70])"
   ]
  },
  {
   "cell_type": "code",
   "execution_count": 30,
   "id": "88f45cc7",
   "metadata": {},
   "outputs": [
    {
     "data": {
      "text/plain": [
       "302"
      ]
     },
     "execution_count": 30,
     "metadata": {},
     "output_type": "execute_result"
    }
   ],
   "source": [
    "len(sdf.index(bintable=0))"
   ]
  },
  {
   "cell_type": "code",
   "execution_count": 26,
   "id": "06eac1c1",
   "metadata": {},
   "outputs": [
    {
     "data": {
      "text/plain": [
       "(8, 13)"
      ]
     },
     "execution_count": 26,
     "metadata": {},
     "output_type": "execute_result"
    }
   ],
   "source": [
    "sdf.summary().shape"
   ]
  },
  {
   "cell_type": "code",
   "execution_count": 5,
   "id": "980552c0",
   "metadata": {},
   "outputs": [
    {
     "data": {
      "text/html": [
       "<div>\n",
       "<style scoped>\n",
       "    .dataframe tbody tr th:only-of-type {\n",
       "        vertical-align: middle;\n",
       "    }\n",
       "\n",
       "    .dataframe tbody tr th {\n",
       "        vertical-align: top;\n",
       "    }\n",
       "\n",
       "    .dataframe thead th {\n",
       "        text-align: right;\n",
       "    }\n",
       "</style>\n",
       "<table border=\"1\" class=\"dataframe\">\n",
       "  <thead>\n",
       "    <tr style=\"text-align: right;\">\n",
       "      <th></th>\n",
       "      <th>OBJECT</th>\n",
       "      <th>BANDWID</th>\n",
       "      <th>DATE-OBS</th>\n",
       "      <th>DURATION</th>\n",
       "      <th>EXPOSURE</th>\n",
       "      <th>TSYS</th>\n",
       "      <th>TDIM7</th>\n",
       "      <th>TUNIT7</th>\n",
       "      <th>CTYPE1</th>\n",
       "      <th>CRVAL1</th>\n",
       "      <th>...</th>\n",
       "      <th>FDNUM</th>\n",
       "      <th>INT</th>\n",
       "      <th>NSAVE</th>\n",
       "      <th>HDU</th>\n",
       "      <th>BINTABLE</th>\n",
       "      <th>ROW</th>\n",
       "      <th>FITSINDEX</th>\n",
       "      <th>PROC</th>\n",
       "      <th>_OBSTYPE</th>\n",
       "      <th>_SUBOBSMODE</th>\n",
       "    </tr>\n",
       "  </thead>\n",
       "  <tbody>\n",
       "    <tr>\n",
       "      <th>0</th>\n",
       "      <td>NGC2415</td>\n",
       "      <td>23437500.0</td>\n",
       "      <td>2021-02-10T07:38:37.50</td>\n",
       "      <td>0.998245</td>\n",
       "      <td>0.975875</td>\n",
       "      <td>17.458052</td>\n",
       "      <td>(32768,1,1,1)</td>\n",
       "      <td>Counts</td>\n",
       "      <td>FREQ-OBS</td>\n",
       "      <td>1.402545e+09</td>\n",
       "      <td>...</td>\n",
       "      <td>0</td>\n",
       "      <td>0</td>\n",
       "      <td>-1</td>\n",
       "      <td>1</td>\n",
       "      <td>0</td>\n",
       "      <td>0</td>\n",
       "      <td>0.0</td>\n",
       "      <td>OnOff</td>\n",
       "      <td>PSWITCHON</td>\n",
       "      <td>TPWCAL</td>\n",
       "    </tr>\n",
       "    <tr>\n",
       "      <th>1</th>\n",
       "      <td>NGC2415</td>\n",
       "      <td>23437500.0</td>\n",
       "      <td>2021-02-10T07:38:37.50</td>\n",
       "      <td>0.998245</td>\n",
       "      <td>0.975875</td>\n",
       "      <td>17.458052</td>\n",
       "      <td>(32768,1,1,1)</td>\n",
       "      <td>Counts</td>\n",
       "      <td>FREQ-OBS</td>\n",
       "      <td>1.402545e+09</td>\n",
       "      <td>...</td>\n",
       "      <td>0</td>\n",
       "      <td>0</td>\n",
       "      <td>-1</td>\n",
       "      <td>1</td>\n",
       "      <td>0</td>\n",
       "      <td>1</td>\n",
       "      <td>0.0</td>\n",
       "      <td>OnOff</td>\n",
       "      <td>PSWITCHON</td>\n",
       "      <td>TPWCAL</td>\n",
       "    </tr>\n",
       "    <tr>\n",
       "      <th>2</th>\n",
       "      <td>NGC2415</td>\n",
       "      <td>23437500.0</td>\n",
       "      <td>2021-02-10T07:43:51.50</td>\n",
       "      <td>0.998245</td>\n",
       "      <td>0.975875</td>\n",
       "      <td>17.240004</td>\n",
       "      <td>(32768,1,1,1)</td>\n",
       "      <td>Counts</td>\n",
       "      <td>FREQ-OBS</td>\n",
       "      <td>1.402546e+09</td>\n",
       "      <td>...</td>\n",
       "      <td>0</td>\n",
       "      <td>0</td>\n",
       "      <td>-1</td>\n",
       "      <td>1</td>\n",
       "      <td>0</td>\n",
       "      <td>2</td>\n",
       "      <td>0.0</td>\n",
       "      <td>OnOff</td>\n",
       "      <td>PSWITCHOFF</td>\n",
       "      <td>TPWCAL</td>\n",
       "    </tr>\n",
       "    <tr>\n",
       "      <th>3</th>\n",
       "      <td>NGC2415</td>\n",
       "      <td>23437500.0</td>\n",
       "      <td>2021-02-10T07:43:51.50</td>\n",
       "      <td>0.998245</td>\n",
       "      <td>0.975875</td>\n",
       "      <td>17.240004</td>\n",
       "      <td>(32768,1,1,1)</td>\n",
       "      <td>Counts</td>\n",
       "      <td>FREQ-OBS</td>\n",
       "      <td>1.402546e+09</td>\n",
       "      <td>...</td>\n",
       "      <td>0</td>\n",
       "      <td>0</td>\n",
       "      <td>-1</td>\n",
       "      <td>1</td>\n",
       "      <td>0</td>\n",
       "      <td>3</td>\n",
       "      <td>0.0</td>\n",
       "      <td>OnOff</td>\n",
       "      <td>PSWITCHOFF</td>\n",
       "      <td>TPWCAL</td>\n",
       "    </tr>\n",
       "  </tbody>\n",
       "</table>\n",
       "<p>4 rows × 89 columns</p>\n",
       "</div>"
      ],
      "text/plain": [
       "    OBJECT     BANDWID                DATE-OBS  DURATION  EXPOSURE       TSYS  \\\n",
       "0  NGC2415  23437500.0  2021-02-10T07:38:37.50  0.998245  0.975875  17.458052   \n",
       "1  NGC2415  23437500.0  2021-02-10T07:38:37.50  0.998245  0.975875  17.458052   \n",
       "2  NGC2415  23437500.0  2021-02-10T07:43:51.50  0.998245  0.975875  17.240004   \n",
       "3  NGC2415  23437500.0  2021-02-10T07:43:51.50  0.998245  0.975875  17.240004   \n",
       "\n",
       "           TDIM7  TUNIT7    CTYPE1        CRVAL1  ...  FDNUM  INT NSAVE  HDU  \\\n",
       "0  (32768,1,1,1)  Counts  FREQ-OBS  1.402545e+09  ...      0    0    -1    1   \n",
       "1  (32768,1,1,1)  Counts  FREQ-OBS  1.402545e+09  ...      0    0    -1    1   \n",
       "2  (32768,1,1,1)  Counts  FREQ-OBS  1.402546e+09  ...      0    0    -1    1   \n",
       "3  (32768,1,1,1)  Counts  FREQ-OBS  1.402546e+09  ...      0    0    -1    1   \n",
       "\n",
       "  BINTABLE  ROW  FITSINDEX   PROC    _OBSTYPE  _SUBOBSMODE  \n",
       "0        0    0        0.0  OnOff   PSWITCHON       TPWCAL  \n",
       "1        0    1        0.0  OnOff   PSWITCHON       TPWCAL  \n",
       "2        0    2        0.0  OnOff  PSWITCHOFF       TPWCAL  \n",
       "3        0    3        0.0  OnOff  PSWITCHOFF       TPWCAL  \n",
       "\n",
       "[4 rows x 89 columns]"
      ]
     },
     "execution_count": 5,
     "metadata": {},
     "output_type": "execute_result"
    }
   ],
   "source": [
    "sdf.index(bintable=0)"
   ]
  },
  {
   "cell_type": "code",
   "execution_count": 14,
   "id": "fc936b0a",
   "metadata": {},
   "outputs": [
    {
     "data": {
      "text/plain": [
       "True"
      ]
     },
     "execution_count": 14,
     "metadata": {},
     "output_type": "execute_result"
    }
   ],
   "source": [
    "(sdf.summary(verbose=True)).shape == (4,17)"
   ]
  },
  {
   "cell_type": "code",
   "execution_count": 8,
   "id": "062d5c64",
   "metadata": {},
   "outputs": [
    {
     "data": {
      "text/html": [
       "<div>\n",
       "<style scoped>\n",
       "    .dataframe tbody tr th:only-of-type {\n",
       "        vertical-align: middle;\n",
       "    }\n",
       "\n",
       "    .dataframe tbody tr th {\n",
       "        vertical-align: top;\n",
       "    }\n",
       "\n",
       "    .dataframe thead th {\n",
       "        text-align: right;\n",
       "    }\n",
       "</style>\n",
       "<table border=\"1\" class=\"dataframe\">\n",
       "  <thead>\n",
       "    <tr style=\"text-align: right;\">\n",
       "      <th></th>\n",
       "      <th>SCAN</th>\n",
       "      <th>OBJECT</th>\n",
       "      <th>VELOCITY</th>\n",
       "      <th>PROC</th>\n",
       "      <th>PROCSEQN</th>\n",
       "      <th>PROCSIZE</th>\n",
       "      <th>RESTFREQ</th>\n",
       "      <th>DOPFREQ</th>\n",
       "      <th>IFNUM</th>\n",
       "      <th>FEED</th>\n",
       "      <th>AZIMUTH</th>\n",
       "      <th>ELEVATIO</th>\n",
       "      <th>FDNUM</th>\n",
       "      <th>PLNUM</th>\n",
       "      <th>SIG</th>\n",
       "      <th>CAL</th>\n",
       "      <th>DATE-OBS</th>\n",
       "    </tr>\n",
       "  </thead>\n",
       "  <tbody>\n",
       "    <tr>\n",
       "      <th>0</th>\n",
       "      <td>152</td>\n",
       "      <td>NGC2415</td>\n",
       "      <td>3784.0</td>\n",
       "      <td>OnOff</td>\n",
       "      <td>1</td>\n",
       "      <td>2</td>\n",
       "      <td>1.420406</td>\n",
       "      <td>1.420406</td>\n",
       "      <td>0</td>\n",
       "      <td>1</td>\n",
       "      <td>285.951496</td>\n",
       "      <td>42.100624</td>\n",
       "      <td>0</td>\n",
       "      <td>0</td>\n",
       "      <td>T</td>\n",
       "      <td>T</td>\n",
       "      <td>2021-02-10T07:38:37.50</td>\n",
       "    </tr>\n",
       "    <tr>\n",
       "      <th>1</th>\n",
       "      <td>152</td>\n",
       "      <td>NGC2415</td>\n",
       "      <td>3784.0</td>\n",
       "      <td>OnOff</td>\n",
       "      <td>1</td>\n",
       "      <td>2</td>\n",
       "      <td>1.420406</td>\n",
       "      <td>1.420406</td>\n",
       "      <td>0</td>\n",
       "      <td>1</td>\n",
       "      <td>285.951496</td>\n",
       "      <td>42.100624</td>\n",
       "      <td>0</td>\n",
       "      <td>0</td>\n",
       "      <td>T</td>\n",
       "      <td>F</td>\n",
       "      <td>2021-02-10T07:38:37.50</td>\n",
       "    </tr>\n",
       "    <tr>\n",
       "      <th>2</th>\n",
       "      <td>153</td>\n",
       "      <td>NGC2415</td>\n",
       "      <td>3784.0</td>\n",
       "      <td>OnOff</td>\n",
       "      <td>2</td>\n",
       "      <td>2</td>\n",
       "      <td>1.420406</td>\n",
       "      <td>1.420406</td>\n",
       "      <td>0</td>\n",
       "      <td>1</td>\n",
       "      <td>286.622527</td>\n",
       "      <td>41.584692</td>\n",
       "      <td>0</td>\n",
       "      <td>0</td>\n",
       "      <td>T</td>\n",
       "      <td>T</td>\n",
       "      <td>2021-02-10T07:43:51.50</td>\n",
       "    </tr>\n",
       "    <tr>\n",
       "      <th>3</th>\n",
       "      <td>153</td>\n",
       "      <td>NGC2415</td>\n",
       "      <td>3784.0</td>\n",
       "      <td>OnOff</td>\n",
       "      <td>2</td>\n",
       "      <td>2</td>\n",
       "      <td>1.420406</td>\n",
       "      <td>1.420406</td>\n",
       "      <td>0</td>\n",
       "      <td>1</td>\n",
       "      <td>286.622527</td>\n",
       "      <td>41.584692</td>\n",
       "      <td>0</td>\n",
       "      <td>0</td>\n",
       "      <td>T</td>\n",
       "      <td>F</td>\n",
       "      <td>2021-02-10T07:43:51.50</td>\n",
       "    </tr>\n",
       "  </tbody>\n",
       "</table>\n",
       "</div>"
      ],
      "text/plain": [
       "   SCAN   OBJECT  VELOCITY   PROC  PROCSEQN  PROCSIZE  RESTFREQ   DOPFREQ  \\\n",
       "0   152  NGC2415    3784.0  OnOff         1         2  1.420406  1.420406   \n",
       "1   152  NGC2415    3784.0  OnOff         1         2  1.420406  1.420406   \n",
       "2   153  NGC2415    3784.0  OnOff         2         2  1.420406  1.420406   \n",
       "3   153  NGC2415    3784.0  OnOff         2         2  1.420406  1.420406   \n",
       "\n",
       "   IFNUM  FEED     AZIMUTH   ELEVATIO  FDNUM  PLNUM SIG CAL  \\\n",
       "0      0     1  285.951496  42.100624      0      0   T   T   \n",
       "1      0     1  285.951496  42.100624      0      0   T   F   \n",
       "2      0     1  286.622527  41.584692      0      0   T   T   \n",
       "3      0     1  286.622527  41.584692      0      0   T   F   \n",
       "\n",
       "                 DATE-OBS  \n",
       "0  2021-02-10T07:38:37.50  \n",
       "1  2021-02-10T07:38:37.50  \n",
       "2  2021-02-10T07:43:51.50  \n",
       "3  2021-02-10T07:43:51.50  "
      ]
     },
     "execution_count": 8,
     "metadata": {},
     "output_type": "execute_result"
    }
   ],
   "source": [
    "sdf.summary(verbose=True)"
   ]
  },
  {
   "cell_type": "code",
   "execution_count": 12,
   "id": "d44b82c1",
   "metadata": {},
   "outputs": [
    {
     "data": {
      "text/plain": [
       "pandas.core.frame.DataFrame"
      ]
     },
     "execution_count": 12,
     "metadata": {},
     "output_type": "execute_result"
    }
   ],
   "source": [
    "type(sdf.summary())"
   ]
  },
  {
   "cell_type": "code",
   "execution_count": 13,
   "id": "84c8035a",
   "metadata": {},
   "outputs": [
    {
     "name": "stdout",
     "output_type": "stream",
     "text": [
      " SCAN  OBJECT VELOCITY  PROC  PROCSEQN  RESTFREQ   DOPFREQ # IF # POL # INT # FEED     AZIMUTH   ELEVATIO\n",
      "  152 NGC2415   3784.0 OnOff         1  1.420406  1.420406    1     1     1      1  285.951496  42.100624\n",
      "  153 NGC2415   3784.0 OnOff         2  1.420406  1.420406    1     1     1      1  286.622527  41.584692\n"
     ]
    }
   ],
   "source": [
    "sdf.summary(show_index=False)"
   ]
  },
  {
   "cell_type": "code",
   "execution_count": null,
   "id": "f7d68e6b",
   "metadata": {},
   "outputs": [],
   "source": []
  }
 ],
 "metadata": {
  "kernelspec": {
   "display_name": "Python 3 (ipykernel)",
   "language": "python",
   "name": "python3"
  },
  "language_info": {
   "codemirror_mode": {
    "name": "ipython",
    "version": 3
   },
   "file_extension": ".py",
   "mimetype": "text/x-python",
   "name": "python",
   "nbconvert_exporter": "python",
   "pygments_lexer": "ipython3",
   "version": "3.9.16"
  }
 },
 "nbformat": 4,
 "nbformat_minor": 5
}
